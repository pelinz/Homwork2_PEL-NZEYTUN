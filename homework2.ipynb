{
 "cells": [
  {
   "cell_type": "code",
   "execution_count": 9,
   "metadata": {},
   "outputs": [],
   "source": [
    "from __future__ import print_function, division\n",
    "\n",
    "%matplotlib inline\n",
    "\n",
    "import numpy as np\n",
    "\n",
    "import nsfg\n",
    "import first\n",
    "import analytic\n",
    "\n",
    "import thinkstats2\n",
    "\n"
   ]
  },
  {
   "cell_type": "code",
   "execution_count": 4,
   "metadata": {},
   "outputs": [],
   "source": [
    "data=nsfg.ReadFemResp()"
   ]
  },
  {
   "cell_type": "code",
   "execution_count": 24,
   "metadata": {},
   "outputs": [
    {
     "data": {
      "text/plain": [
       "0        6\n",
       "1       10\n",
       "2        9\n",
       "3        5\n",
       "4        6\n",
       "5        5\n",
       "6        6\n",
       "7        9\n",
       "8        9\n",
       "9       10\n",
       "10       9\n",
       "11       9\n",
       "12       9\n",
       "13       5\n",
       "14       9\n",
       "15       9\n",
       "16       6\n",
       "17       9\n",
       "18       6\n",
       "19       6\n",
       "20      10\n",
       "21       6\n",
       "22      12\n",
       "23      10\n",
       "24       9\n",
       "25       9\n",
       "26      10\n",
       "27      10\n",
       "28       9\n",
       "29       9\n",
       "        ..\n",
       "7613     7\n",
       "7614    12\n",
       "7615     5\n",
       "7616    10\n",
       "7617    12\n",
       "7618    13\n",
       "7619    13\n",
       "7620     9\n",
       "7621     9\n",
       "7622     7\n",
       "7623     9\n",
       "7624    10\n",
       "7625    10\n",
       "7626    10\n",
       "7627    10\n",
       "7628     7\n",
       "7629    12\n",
       "7630     9\n",
       "7631    10\n",
       "7632     9\n",
       "7633    10\n",
       "7634     9\n",
       "7635     9\n",
       "7636     7\n",
       "7637     9\n",
       "7638    13\n",
       "7639     7\n",
       "7640    11\n",
       "7641     6\n",
       "7642    10\n",
       "Name: hieduc, Length: 7643, dtype: int64"
      ]
     },
     "execution_count": 24,
     "metadata": {},
     "output_type": "execute_result"
    }
   ],
   "source": [
    "hname=data['hieduc']\n",
    "school= hname[hieduc <=10]\n",
    "collage=hname[hieduc >0]\n",
    "hname"
   ]
  },
  {
   "cell_type": "code",
   "execution_count": 25,
   "metadata": {},
   "outputs": [
    {
     "data": {
      "text/plain": [
       "0        6\n",
       "1       10\n",
       "2        9\n",
       "3        5\n",
       "4        6\n",
       "5        5\n",
       "6        6\n",
       "7        9\n",
       "8        9\n",
       "9       10\n",
       "10       9\n",
       "11       9\n",
       "12       9\n",
       "13       5\n",
       "14       9\n",
       "15       9\n",
       "16       6\n",
       "17       9\n",
       "18       6\n",
       "19       6\n",
       "20      10\n",
       "21       6\n",
       "22      12\n",
       "23      10\n",
       "24       9\n",
       "25       9\n",
       "26      10\n",
       "27      10\n",
       "28       9\n",
       "29       9\n",
       "        ..\n",
       "7613     7\n",
       "7614    12\n",
       "7615     5\n",
       "7616    10\n",
       "7617    12\n",
       "7618    13\n",
       "7619    13\n",
       "7620     9\n",
       "7621     9\n",
       "7622     7\n",
       "7623     9\n",
       "7624    10\n",
       "7625    10\n",
       "7626    10\n",
       "7627    10\n",
       "7628     7\n",
       "7629    12\n",
       "7630     9\n",
       "7631    10\n",
       "7632     9\n",
       "7633    10\n",
       "7634     9\n",
       "7635     9\n",
       "7636     7\n",
       "7637     9\n",
       "7638    13\n",
       "7639     7\n",
       "7640    11\n",
       "7641     6\n",
       "7642    10\n",
       "Name: hieduc, Length: 7643, dtype: int64"
      ]
     },
     "execution_count": 25,
     "metadata": {},
     "output_type": "execute_result"
    }
   ],
   "source": [
    "collage"
   ]
  },
  {
   "cell_type": "code",
   "execution_count": 23,
   "metadata": {},
   "outputs": [
    {
     "data": {
      "text/plain": [
       "0        6\n",
       "1       10\n",
       "2        9\n",
       "3        5\n",
       "4        6\n",
       "5        5\n",
       "6        6\n",
       "7        9\n",
       "8        9\n",
       "9       10\n",
       "10       9\n",
       "11       9\n",
       "12       9\n",
       "13       5\n",
       "14       9\n",
       "15       9\n",
       "16       6\n",
       "17       9\n",
       "18       6\n",
       "19       6\n",
       "20      10\n",
       "21       6\n",
       "23      10\n",
       "24       9\n",
       "25       9\n",
       "26      10\n",
       "27      10\n",
       "28       9\n",
       "29       9\n",
       "30      10\n",
       "        ..\n",
       "7600    10\n",
       "7602    10\n",
       "7608    10\n",
       "7609     5\n",
       "7610     9\n",
       "7611     5\n",
       "7612     9\n",
       "7613     7\n",
       "7615     5\n",
       "7616    10\n",
       "7620     9\n",
       "7621     9\n",
       "7622     7\n",
       "7623     9\n",
       "7624    10\n",
       "7625    10\n",
       "7626    10\n",
       "7627    10\n",
       "7628     7\n",
       "7630     9\n",
       "7631    10\n",
       "7632     9\n",
       "7633    10\n",
       "7634     9\n",
       "7635     9\n",
       "7636     7\n",
       "7637     9\n",
       "7639     7\n",
       "7641     6\n",
       "7642    10\n",
       "Name: hieduc, Length: 5498, dtype: int64"
      ]
     },
     "execution_count": 23,
     "metadata": {},
     "output_type": "execute_result"
    }
   ],
   "source": [
    "school"
   ]
  },
  {
   "cell_type": "code",
   "execution_count": 35,
   "metadata": {},
   "outputs": [
    {
     "data": {
      "text/plain": [
       "0        2\n",
       "1        4\n",
       "2        4\n",
       "3        3\n",
       "4        3\n",
       "5        4\n",
       "6        4\n",
       "7        3\n",
       "8        3\n",
       "9        3\n",
       "10       2\n",
       "11       4\n",
       "12       1\n",
       "13       4\n",
       "14       2\n",
       "15       3\n",
       "16       3\n",
       "17       5\n",
       "18       1\n",
       "19       3\n",
       "20       4\n",
       "21       3\n",
       "22       3\n",
       "23       2\n",
       "24       5\n",
       "25       4\n",
       "26       2\n",
       "27       3\n",
       "28       3\n",
       "29       1\n",
       "        ..\n",
       "7613     3\n",
       "7614     3\n",
       "7615     3\n",
       "7616     3\n",
       "7617     4\n",
       "7618     3\n",
       "7619     3\n",
       "7620     3\n",
       "7621     4\n",
       "7622     4\n",
       "7623     3\n",
       "7624     4\n",
       "7625     5\n",
       "7626     2\n",
       "7627     3\n",
       "7628     5\n",
       "7629     4\n",
       "7630     2\n",
       "7631     1\n",
       "7632     2\n",
       "7633     3\n",
       "7634     1\n",
       "7635     2\n",
       "7636     1\n",
       "7637    96\n",
       "7638     3\n",
       "7639     4\n",
       "7640     3\n",
       "7641     3\n",
       "7642     2\n",
       "Name: agemomb1, Length: 7643, dtype: int64"
      ]
     },
     "execution_count": 35,
     "metadata": {},
     "output_type": "execute_result"
    }
   ],
   "source": [
    "agemomb = data['agemomb1']\n",
    "max_agemomb=max(agemomb)\n",
    "min_agemomb=min(agemomb)\n",
    "mean_agemomb=agemomb.mean()\n",
    "var_agemomb=agemomb.var()\n",
    "std_agemomb=agemomb.std()\n",
    "agemomb"
   ]
  },
  {
   "cell_type": "code",
   "execution_count": 36,
   "metadata": {},
   "outputs": [
    {
     "data": {
      "text/plain": [
       "10.812288996229537"
      ]
     },
     "execution_count": 36,
     "metadata": {},
     "output_type": "execute_result"
    }
   ],
   "source": [
    "std_agemomb"
   ]
  },
  {
   "cell_type": "code",
   "execution_count": 37,
   "metadata": {},
   "outputs": [
    {
     "data": {
      "text/plain": [
       "1L"
      ]
     },
     "execution_count": 37,
     "metadata": {},
     "output_type": "execute_result"
    }
   ],
   "source": [
    "min_agemomb"
   ]
  },
  {
   "cell_type": "code",
   "execution_count": 42,
   "metadata": {},
   "outputs": [
    {
     "data": {
      "text/plain": [
       "96L"
      ]
     },
     "execution_count": 42,
     "metadata": {},
     "output_type": "execute_result"
    }
   ],
   "source": [
    "max_agemomb"
   ]
  },
  {
   "cell_type": "code",
   "execution_count": 43,
   "metadata": {},
   "outputs": [
    {
     "data": {
      "text/plain": [
       "116.90559333798633"
      ]
     },
     "execution_count": 43,
     "metadata": {},
     "output_type": "execute_result"
    }
   ],
   "source": [
    "var_agemomb"
   ]
  },
  {
   "cell_type": "code",
   "execution_count": 47,
   "metadata": {},
   "outputs": [],
   "source": [
    "pmfvariable= thinkstats2.Pmf(school)"
   ]
  },
  {
   "cell_type": "code",
   "execution_count": 49,
   "metadata": {},
   "outputs": [
    {
     "data": {
      "text/plain": [
       "Pmf({5L: 0.1465987631866133, 6L: 0.08184794470716625, 7L: 0.07548199345216443, 8L: 0.005820298290287377, 9L: 0.39487086213168426, 10L: 0.2953801382320844})"
      ]
     },
     "execution_count": 49,
     "metadata": {},
     "output_type": "execute_result"
    }
   ],
   "source": [
    "pmfvariable"
   ]
  },
  {
   "cell_type": "code",
   "execution_count": 62,
   "metadata": {},
   "outputs": [],
   "source": [
    "unipmf= thinkstats2.Pmf(collage)"
   ]
  },
  {
   "cell_type": "code",
   "execution_count": 63,
   "metadata": {},
   "outputs": [
    {
     "data": {
      "text/plain": [
       "Pmf({5L: 0.10545597278555542, 6L: 0.058877404160669895, 7L: 0.054298050503728906, 8L: 0.004186837629203193, 9L: 0.2840507654062541, 10L: 0.21248200968206202, 11L: 0.07235378777966768, 12L: 0.15321208949365434, 13L: 0.038597409394216936, 14L: 0.004448514981028392, 15L: 0.012037158183959179})"
      ]
     },
     "execution_count": 63,
     "metadata": {},
     "output_type": "execute_result"
    }
   ],
   "source": [
    "unipmf"
   ]
  },
  {
   "cell_type": "code",
   "execution_count": 67,
   "metadata": {},
   "outputs": [],
   "source": [
    "sCdf= thinkstats2.Cdf(school)"
   ]
  },
  {
   "cell_type": "code",
   "execution_count": 68,
   "metadata": {},
   "outputs": [
    {
     "data": {
      "text/plain": [
       "Cdf([ 5  6  7  8  9 10], [0.14659876 0.22844671 0.3039287  0.309749   0.70461986 1.        ])"
      ]
     },
     "execution_count": 68,
     "metadata": {},
     "output_type": "execute_result"
    }
   ],
   "source": [
    "sCdf"
   ]
  },
  {
   "cell_type": "code",
   "execution_count": null,
   "metadata": {},
   "outputs": [],
   "source": []
  }
 ],
 "metadata": {
  "kernelspec": {
   "display_name": "Python 2",
   "language": "python",
   "name": "python2"
  },
  "language_info": {
   "codemirror_mode": {
    "name": "ipython",
    "version": 2
   },
   "file_extension": ".py",
   "mimetype": "text/x-python",
   "name": "python",
   "nbconvert_exporter": "python",
   "pygments_lexer": "ipython2",
   "version": "2.7.14"
  }
 },
 "nbformat": 4,
 "nbformat_minor": 2
}
